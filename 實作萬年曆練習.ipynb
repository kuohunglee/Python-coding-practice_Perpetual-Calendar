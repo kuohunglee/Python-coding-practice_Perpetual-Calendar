{
 "cells": [
  {
   "cell_type": "code",
   "execution_count": 1,
   "metadata": {
    "scrolled": true
   },
   "outputs": [],
   "source": [
    "#判斷是否為閏年、平年\n",
    "def leapYear(year):\n",
    "    if year%4 == 0 and year%100 != 0 or year%400 == 0:\n",
    "        return True\n",
    "    else:\n",
    "        return False"
   ]
  },
  {
   "cell_type": "code",
   "execution_count": 2,
   "metadata": {},
   "outputs": [],
   "source": [
    "#每個月份的天數\n",
    "def getMonthDays(year,month):\n",
    "    days = 31\n",
    "    if month == 2:\n",
    "        if leapYear(year):\n",
    "            days = 29\n",
    "        else:\n",
    "            days = 28\n",
    "    elif month in [4,6,9,11]:\n",
    "        days = 30\n",
    "    return days"
   ]
  },
  {
   "cell_type": "code",
   "execution_count": 3,
   "metadata": {},
   "outputs": [],
   "source": [
    "def getTotalDays(year,month):\n",
    "    totaldays = 0\n",
    "    for i in range(0,year):\n",
    "        if i >= 1:\n",
    "            if leapYear(i):\n",
    "                totaldays+=366\n",
    "            else:\n",
    "                totaldays+=365\n",
    "    for i in range(1,month):\n",
    "        totaldays+=getMonthDays(year, i)\n",
    "    return (totaldays+1) #西元1年1月1日為星期1"
   ]
  },
  {
   "cell_type": "code",
   "execution_count": 4,
   "metadata": {},
   "outputs": [
    {
     "name": "stdout",
     "output_type": "stream",
     "text": [
      "year:2020\n",
      "month:5\n",
      "737546\n",
      "日\t一\t二\t三\t四\t五\t六\t\n",
      " \t \t \t \t \t1\t2\t\n",
      "3\t4\t5\t6\t7\t8\t9\t\n",
      "10\t11\t12\t13\t14\t15\t16\t\n",
      "17\t18\t19\t20\t21\t22\t23\t\n",
      "24\t25\t26\t27\t28\t29\t30\t\n",
      "31\t\n"
     ]
    }
   ],
   "source": [
    "year=int(input(\"year:\"))\n",
    "month=int(input(\"month:\"))\n",
    "icount=0\n",
    "\n",
    "print(getTotalDays(year,month))\n",
    "print('日\\t一\\t二\\t三\\t四\\t五\\t六\\t')\n",
    "\n",
    "odds = (getTotalDays(year,month)%7)\n",
    "a=''\n",
    "for i in range(1,getMonthDays(year,month)+1):\n",
    "    s = (' \\t')*odds\n",
    "    a+= f'{i}\\t'\n",
    "    if (i+odds)==7:\n",
    "        print(s+a)\n",
    "        a=''\n",
    "    elif (i+odds)%7==0 and (i+odds)!=7:\n",
    "        print(a)\n",
    "        a=''\n",
    "    elif i==getMonthDays(year,month):\n",
    "        print(a)\n",
    "        a=''"
   ]
  },
  {
   "cell_type": "code",
   "execution_count": null,
   "metadata": {},
   "outputs": [],
   "source": []
  }
 ],
 "metadata": {
  "kernelspec": {
   "display_name": "Python 3",
   "language": "python",
   "name": "python3"
  },
  "language_info": {
   "codemirror_mode": {
    "name": "ipython",
    "version": 3
   },
   "file_extension": ".py",
   "mimetype": "text/x-python",
   "name": "python",
   "nbconvert_exporter": "python",
   "pygments_lexer": "ipython3",
   "version": "3.7.6"
  }
 },
 "nbformat": 4,
 "nbformat_minor": 4
}
